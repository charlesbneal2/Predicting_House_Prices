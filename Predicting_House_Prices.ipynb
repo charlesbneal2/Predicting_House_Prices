{
 "cells": [
  {
   "cell_type": "markdown",
   "metadata": {
    "collapsed": true
   },
   "source": [
    "# Predicting Housing Prices\n",
    "In this projects, we are going to build a model that will predict housing prices based on a number of features.\n",
    "We will build the model on housing data from Ames, Iowa from 2006 to 2010. The dataset was compiled for an article published in the Journal of Statistics Education: https://www.tandfonline.com/doi/abs/10.1080/10691898.2011.11889627\n",
    "\n",
    "## Data Exploration"
   ]
  },
  {
   "cell_type": "code",
   "execution_count": 1,
   "metadata": {
    "collapsed": true
   },
   "outputs": [],
   "source": [
    "# import pandas, matplotlib, seaborn, and numpy\n",
    "import pandas as pd\n",
    "import matplotlib.pyplot as plt\n",
    "import numpy as np\n",
    "import seaborn as sns\n",
    "\n",
    "%matplotlib inline"
   ]
  },
  {
   "cell_type": "code",
   "execution_count": 2,
   "metadata": {
    "collapsed": false
   },
   "outputs": [
    {
     "data": {
      "text/html": [
       "<div>\n",
       "<style scoped>\n",
       "    .dataframe tbody tr th:only-of-type {\n",
       "        vertical-align: middle;\n",
       "    }\n",
       "\n",
       "    .dataframe tbody tr th {\n",
       "        vertical-align: top;\n",
       "    }\n",
       "\n",
       "    .dataframe thead th {\n",
       "        text-align: right;\n",
       "    }\n",
       "</style>\n",
       "<table border=\"1\" class=\"dataframe\">\n",
       "  <thead>\n",
       "    <tr style=\"text-align: right;\">\n",
       "      <th></th>\n",
       "      <th>Order</th>\n",
       "      <th>PID</th>\n",
       "      <th>MS SubClass</th>\n",
       "      <th>MS Zoning</th>\n",
       "      <th>Lot Frontage</th>\n",
       "      <th>Lot Area</th>\n",
       "      <th>Street</th>\n",
       "      <th>Alley</th>\n",
       "      <th>Lot Shape</th>\n",
       "      <th>Land Contour</th>\n",
       "      <th>...</th>\n",
       "      <th>Pool Area</th>\n",
       "      <th>Pool QC</th>\n",
       "      <th>Fence</th>\n",
       "      <th>Misc Feature</th>\n",
       "      <th>Misc Val</th>\n",
       "      <th>Mo Sold</th>\n",
       "      <th>Yr Sold</th>\n",
       "      <th>Sale Type</th>\n",
       "      <th>Sale Condition</th>\n",
       "      <th>SalePrice</th>\n",
       "    </tr>\n",
       "  </thead>\n",
       "  <tbody>\n",
       "    <tr>\n",
       "      <th>0</th>\n",
       "      <td>1</td>\n",
       "      <td>526301100</td>\n",
       "      <td>20</td>\n",
       "      <td>RL</td>\n",
       "      <td>141.0</td>\n",
       "      <td>31770</td>\n",
       "      <td>Pave</td>\n",
       "      <td>NaN</td>\n",
       "      <td>IR1</td>\n",
       "      <td>Lvl</td>\n",
       "      <td>...</td>\n",
       "      <td>0</td>\n",
       "      <td>NaN</td>\n",
       "      <td>NaN</td>\n",
       "      <td>NaN</td>\n",
       "      <td>0</td>\n",
       "      <td>5</td>\n",
       "      <td>2010</td>\n",
       "      <td>WD</td>\n",
       "      <td>Normal</td>\n",
       "      <td>215000</td>\n",
       "    </tr>\n",
       "    <tr>\n",
       "      <th>1</th>\n",
       "      <td>2</td>\n",
       "      <td>526350040</td>\n",
       "      <td>20</td>\n",
       "      <td>RH</td>\n",
       "      <td>80.0</td>\n",
       "      <td>11622</td>\n",
       "      <td>Pave</td>\n",
       "      <td>NaN</td>\n",
       "      <td>Reg</td>\n",
       "      <td>Lvl</td>\n",
       "      <td>...</td>\n",
       "      <td>0</td>\n",
       "      <td>NaN</td>\n",
       "      <td>MnPrv</td>\n",
       "      <td>NaN</td>\n",
       "      <td>0</td>\n",
       "      <td>6</td>\n",
       "      <td>2010</td>\n",
       "      <td>WD</td>\n",
       "      <td>Normal</td>\n",
       "      <td>105000</td>\n",
       "    </tr>\n",
       "    <tr>\n",
       "      <th>2</th>\n",
       "      <td>3</td>\n",
       "      <td>526351010</td>\n",
       "      <td>20</td>\n",
       "      <td>RL</td>\n",
       "      <td>81.0</td>\n",
       "      <td>14267</td>\n",
       "      <td>Pave</td>\n",
       "      <td>NaN</td>\n",
       "      <td>IR1</td>\n",
       "      <td>Lvl</td>\n",
       "      <td>...</td>\n",
       "      <td>0</td>\n",
       "      <td>NaN</td>\n",
       "      <td>NaN</td>\n",
       "      <td>Gar2</td>\n",
       "      <td>12500</td>\n",
       "      <td>6</td>\n",
       "      <td>2010</td>\n",
       "      <td>WD</td>\n",
       "      <td>Normal</td>\n",
       "      <td>172000</td>\n",
       "    </tr>\n",
       "    <tr>\n",
       "      <th>3</th>\n",
       "      <td>4</td>\n",
       "      <td>526353030</td>\n",
       "      <td>20</td>\n",
       "      <td>RL</td>\n",
       "      <td>93.0</td>\n",
       "      <td>11160</td>\n",
       "      <td>Pave</td>\n",
       "      <td>NaN</td>\n",
       "      <td>Reg</td>\n",
       "      <td>Lvl</td>\n",
       "      <td>...</td>\n",
       "      <td>0</td>\n",
       "      <td>NaN</td>\n",
       "      <td>NaN</td>\n",
       "      <td>NaN</td>\n",
       "      <td>0</td>\n",
       "      <td>4</td>\n",
       "      <td>2010</td>\n",
       "      <td>WD</td>\n",
       "      <td>Normal</td>\n",
       "      <td>244000</td>\n",
       "    </tr>\n",
       "    <tr>\n",
       "      <th>4</th>\n",
       "      <td>5</td>\n",
       "      <td>527105010</td>\n",
       "      <td>60</td>\n",
       "      <td>RL</td>\n",
       "      <td>74.0</td>\n",
       "      <td>13830</td>\n",
       "      <td>Pave</td>\n",
       "      <td>NaN</td>\n",
       "      <td>IR1</td>\n",
       "      <td>Lvl</td>\n",
       "      <td>...</td>\n",
       "      <td>0</td>\n",
       "      <td>NaN</td>\n",
       "      <td>MnPrv</td>\n",
       "      <td>NaN</td>\n",
       "      <td>0</td>\n",
       "      <td>3</td>\n",
       "      <td>2010</td>\n",
       "      <td>WD</td>\n",
       "      <td>Normal</td>\n",
       "      <td>189900</td>\n",
       "    </tr>\n",
       "  </tbody>\n",
       "</table>\n",
       "<p>5 rows × 82 columns</p>\n",
       "</div>"
      ],
      "text/plain": [
       "   Order        PID  MS SubClass MS Zoning  Lot Frontage  Lot Area Street  \\\n",
       "0      1  526301100           20        RL         141.0     31770   Pave   \n",
       "1      2  526350040           20        RH          80.0     11622   Pave   \n",
       "2      3  526351010           20        RL          81.0     14267   Pave   \n",
       "3      4  526353030           20        RL          93.0     11160   Pave   \n",
       "4      5  527105010           60        RL          74.0     13830   Pave   \n",
       "\n",
       "  Alley Lot Shape Land Contour    ...     Pool Area Pool QC  Fence  \\\n",
       "0   NaN       IR1          Lvl    ...             0     NaN    NaN   \n",
       "1   NaN       Reg          Lvl    ...             0     NaN  MnPrv   \n",
       "2   NaN       IR1          Lvl    ...             0     NaN    NaN   \n",
       "3   NaN       Reg          Lvl    ...             0     NaN    NaN   \n",
       "4   NaN       IR1          Lvl    ...             0     NaN  MnPrv   \n",
       "\n",
       "  Misc Feature Misc Val Mo Sold Yr Sold Sale Type  Sale Condition  SalePrice  \n",
       "0          NaN        0       5    2010       WD           Normal     215000  \n",
       "1          NaN        0       6    2010       WD           Normal     105000  \n",
       "2         Gar2    12500       6    2010       WD           Normal     172000  \n",
       "3          NaN        0       4    2010       WD           Normal     244000  \n",
       "4          NaN        0       3    2010       WD           Normal     189900  \n",
       "\n",
       "[5 rows x 82 columns]"
      ]
     },
     "execution_count": 2,
     "metadata": {},
     "output_type": "execute_result"
    }
   ],
   "source": [
    "# read in our data\n",
    "housing = pd.read_csv('AmesHousing.tsv', sep='\\t')\n",
    "\n",
    "# look at first few rows to get a feel for the data\n",
    "housing.head()"
   ]
  },
  {
   "cell_type": "code",
   "execution_count": 3,
   "metadata": {
    "collapsed": false
   },
   "outputs": [
    {
     "name": "stdout",
     "output_type": "stream",
     "text": [
      "<class 'pandas.core.frame.DataFrame'>\n",
      "RangeIndex: 2930 entries, 0 to 2929\n",
      "Data columns (total 82 columns):\n",
      "Order              2930 non-null int64\n",
      "PID                2930 non-null int64\n",
      "MS SubClass        2930 non-null int64\n",
      "MS Zoning          2930 non-null object\n",
      "Lot Frontage       2440 non-null float64\n",
      "Lot Area           2930 non-null int64\n",
      "Street             2930 non-null object\n",
      "Alley              198 non-null object\n",
      "Lot Shape          2930 non-null object\n",
      "Land Contour       2930 non-null object\n",
      "Utilities          2930 non-null object\n",
      "Lot Config         2930 non-null object\n",
      "Land Slope         2930 non-null object\n",
      "Neighborhood       2930 non-null object\n",
      "Condition 1        2930 non-null object\n",
      "Condition 2        2930 non-null object\n",
      "Bldg Type          2930 non-null object\n",
      "House Style        2930 non-null object\n",
      "Overall Qual       2930 non-null int64\n",
      "Overall Cond       2930 non-null int64\n",
      "Year Built         2930 non-null int64\n",
      "Year Remod/Add     2930 non-null int64\n",
      "Roof Style         2930 non-null object\n",
      "Roof Matl          2930 non-null object\n",
      "Exterior 1st       2930 non-null object\n",
      "Exterior 2nd       2930 non-null object\n",
      "Mas Vnr Type       2907 non-null object\n",
      "Mas Vnr Area       2907 non-null float64\n",
      "Exter Qual         2930 non-null object\n",
      "Exter Cond         2930 non-null object\n",
      "Foundation         2930 non-null object\n",
      "Bsmt Qual          2850 non-null object\n",
      "Bsmt Cond          2850 non-null object\n",
      "Bsmt Exposure      2847 non-null object\n",
      "BsmtFin Type 1     2850 non-null object\n",
      "BsmtFin SF 1       2929 non-null float64\n",
      "BsmtFin Type 2     2849 non-null object\n",
      "BsmtFin SF 2       2929 non-null float64\n",
      "Bsmt Unf SF        2929 non-null float64\n",
      "Total Bsmt SF      2929 non-null float64\n",
      "Heating            2930 non-null object\n",
      "Heating QC         2930 non-null object\n",
      "Central Air        2930 non-null object\n",
      "Electrical         2929 non-null object\n",
      "1st Flr SF         2930 non-null int64\n",
      "2nd Flr SF         2930 non-null int64\n",
      "Low Qual Fin SF    2930 non-null int64\n",
      "Gr Liv Area        2930 non-null int64\n",
      "Bsmt Full Bath     2928 non-null float64\n",
      "Bsmt Half Bath     2928 non-null float64\n",
      "Full Bath          2930 non-null int64\n",
      "Half Bath          2930 non-null int64\n",
      "Bedroom AbvGr      2930 non-null int64\n",
      "Kitchen AbvGr      2930 non-null int64\n",
      "Kitchen Qual       2930 non-null object\n",
      "TotRms AbvGrd      2930 non-null int64\n",
      "Functional         2930 non-null object\n",
      "Fireplaces         2930 non-null int64\n",
      "Fireplace Qu       1508 non-null object\n",
      "Garage Type        2773 non-null object\n",
      "Garage Yr Blt      2771 non-null float64\n",
      "Garage Finish      2771 non-null object\n",
      "Garage Cars        2929 non-null float64\n",
      "Garage Area        2929 non-null float64\n",
      "Garage Qual        2771 non-null object\n",
      "Garage Cond        2771 non-null object\n",
      "Paved Drive        2930 non-null object\n",
      "Wood Deck SF       2930 non-null int64\n",
      "Open Porch SF      2930 non-null int64\n",
      "Enclosed Porch     2930 non-null int64\n",
      "3Ssn Porch         2930 non-null int64\n",
      "Screen Porch       2930 non-null int64\n",
      "Pool Area          2930 non-null int64\n",
      "Pool QC            13 non-null object\n",
      "Fence              572 non-null object\n",
      "Misc Feature       106 non-null object\n",
      "Misc Val           2930 non-null int64\n",
      "Mo Sold            2930 non-null int64\n",
      "Yr Sold            2930 non-null int64\n",
      "Sale Type          2930 non-null object\n",
      "Sale Condition     2930 non-null object\n",
      "SalePrice          2930 non-null int64\n",
      "dtypes: float64(11), int64(28), object(43)\n",
      "memory usage: 1.8+ MB\n"
     ]
    }
   ],
   "source": [
    "housing.info()"
   ]
  },
  {
   "cell_type": "markdown",
   "metadata": {},
   "source": [
    "## Basic model"
   ]
  },
  {
   "cell_type": "code",
   "execution_count": 4,
   "metadata": {
    "collapsed": false
   },
   "outputs": [
    {
     "data": {
      "text/plain": [
       "57088.25161263909"
      ]
     },
     "execution_count": 4,
     "metadata": {},
     "output_type": "execute_result"
    }
   ],
   "source": [
    "def transform_features(df):\n",
    "    return df\n",
    "\n",
    "def select_features(df):\n",
    "    cols = ['Gr Liv Area','SalePrice']\n",
    "    return df[cols]\n",
    "\n",
    "# function train_and_test separates the data into training and testing sets\n",
    "# Then, trains a linear regression model on the trainind data using numerical\n",
    "# columns to predict SalePrice. Tests the model on the test set and returns the\n",
    "# RMSE value for the model\n",
    "def train_and_test(df):\n",
    "    \n",
    "    # Split data in half\n",
    "    train_last_row = 1460\n",
    "    train = df.head(1460)\n",
    "    test = df.tail(len(df)-1460)\n",
    "    \n",
    "    # Get list of features\n",
    "    features = train.columns.drop('SalePrice')\n",
    "    \n",
    "    # Import LinearRegression and mean_squared error from sklearn\n",
    "    from sklearn.linear_model import LinearRegression\n",
    "    from sklearn.metrics import mean_squared_error\n",
    "    \n",
    "    # Instantiate and fit model\n",
    "    lr = LinearRegression()\n",
    "    lr.fit(train[features], train['SalePrice'])\n",
    "    \n",
    "    # Generate predictions and return RMSE\n",
    "    labels = lr.predict(test[features])\n",
    "    return mean_squared_error(test['SalePrice'], labels)**(1/2)\n",
    "\n",
    "transform_housing = transform_features(housing)\n",
    "filtered_housing = select_features(transform_housing)\n",
    "rmse = train_and_test(filtered_housing)\n",
    "\n",
    "rmse"
   ]
  },
  {
   "cell_type": "markdown",
   "metadata": {},
   "source": [
    "## Feature Engineering\n",
    "To start, we want to apply several key modifications to our data:\n",
    "- Remove columns missing more than 5% of their data\n",
    "- Remove text columns missing any data\n",
    "- Fill missing values in numerical columns with the mode of the column"
   ]
  },
  {
   "cell_type": "code",
   "execution_count": 5,
   "metadata": {
    "collapsed": false
   },
   "outputs": [
    {
     "data": {
      "text/plain": [
       "0    64\n",
       "dtype: int64"
      ]
     },
     "execution_count": 5,
     "metadata": {},
     "output_type": "execute_result"
    }
   ],
   "source": [
    "# Remove columns missing more than 5% of their data\n",
    "housing = housing.dropna(axis=1, thresh = .95 * len(housing))\n",
    "\n",
    "# Remove text columns missing any data\n",
    "text_cols = housing.select_dtypes(include='object').columns.tolist()\n",
    "for col in text_cols:\n",
    "    if housing[col].isnull().sum() > 0:\n",
    "        housing = housing.drop(col, axis=1)\n",
    "\n",
    "# Fill missing values in numeric columns with the mode\n",
    "numeric_cols = housing.select_dtypes(include=['int64','float64']).columns.tolist()\n",
    "for col in numeric_cols:\n",
    "    mode = housing[col].dropna().mode()\n",
    "    housing[col] = housing[col].fillna(mode[0])\n",
    "\n",
    "# Verify there are no missing values\n",
    "housing.isnull().sum().value_counts()"
   ]
  },
  {
   "cell_type": "markdown",
   "metadata": {},
   "source": [
    "Let's see what new features we can generate by consolidating existing features.\n",
    "For example, the Year Sold and Year Built columns are most relevant with respect to each other for predicting sale price, so we can combine them for our model."
   ]
  },
  {
   "cell_type": "code",
   "execution_count": 6,
   "metadata": {
    "collapsed": false
   },
   "outputs": [
    {
     "data": {
      "text/plain": [
       "2180   -1\n",
       "dtype: int64"
      ]
     },
     "execution_count": 6,
     "metadata": {},
     "output_type": "execute_result"
    }
   ],
   "source": [
    "# compute the age of the house at sale\n",
    "age_at_sale = housing['Yr Sold'] - housing['Year Built']\n",
    "\n",
    "# check if there are any errors here\n",
    "age_at_sale[age_at_sale < 0]"
   ]
  },
  {
   "cell_type": "markdown",
   "metadata": {},
   "source": [
    "Let's also compute the years since the last addition or remodel and the sale."
   ]
  },
  {
   "cell_type": "code",
   "execution_count": 7,
   "metadata": {
    "collapsed": false
   },
   "outputs": [
    {
     "data": {
      "text/plain": [
       "1702   -1\n",
       "2180   -2\n",
       "2181   -1\n",
       "dtype: int64"
      ]
     },
     "execution_count": 7,
     "metadata": {},
     "output_type": "execute_result"
    }
   ],
   "source": [
    "# compute time since last remodel at sale\n",
    "years_since_remod = housing['Yr Sold'] - housing['Year Remod/Add']\n",
    "\n",
    "# check if there are any errors\n",
    "years_since_remod[years_since_remod < 0]"
   ]
  },
  {
   "cell_type": "markdown",
   "metadata": {},
   "source": [
    "Let's replace the old features with our two new features and remove the rows with date errors."
   ]
  },
  {
   "cell_type": "code",
   "execution_count": 8,
   "metadata": {
    "collapsed": false
   },
   "outputs": [],
   "source": [
    "# generate two new columns with our new features\n",
    "housing['Age At Sale'] = age_at_sale\n",
    "housing['Yrs Since Remod'] = years_since_remod\n",
    "\n",
    "# remove original features\n",
    "housing = housing.drop(['Yr Sold','Year Built','Year Remod/Add'], axis=1)\n",
    "\n",
    "# Drop rows with negative values for our new features\n",
    "#housing = housing.drop([2180,1702,2180,2181], axis=0)\n",
    "housing = housing[housing['Age At Sale'] >= 0]\n",
    "housing = housing[housing['Yrs Since Remod'] >= 0]"
   ]
  },
  {
   "cell_type": "markdown",
   "metadata": {},
   "source": [
    "Now, we can sort through and drop columns that are not useful to machine learning. These include PID and Order. Let's also remove columns which leak information about the sale, including the month of the sale, the sale condition, and the sale type."
   ]
  },
  {
   "cell_type": "code",
   "execution_count": 9,
   "metadata": {
    "collapsed": false
   },
   "outputs": [],
   "source": [
    "# drop columns not useful to our model\n",
    "housing = housing.drop(['PID','Order'], axis=1)\n",
    "\n",
    "# drop columns leaking sale information\n",
    "housing = housing.drop(['Mo Sold','Sale Condition','Sale Type'], axis=1)"
   ]
  },
  {
   "cell_type": "markdown",
   "metadata": {},
   "source": [
    "Let's update our transform_features function to reflect our feature engineering workflow:"
   ]
  },
  {
   "cell_type": "code",
   "execution_count": 10,
   "metadata": {
    "collapsed": false
   },
   "outputs": [
    {
     "data": {
      "text/plain": [
       "55275.36731241307"
      ]
     },
     "execution_count": 10,
     "metadata": {},
     "output_type": "execute_result"
    }
   ],
   "source": [
    "def transform_features(df):\n",
    "    \n",
    "    # Remove columns missing more than 5% of their data\n",
    "    df = df.dropna(axis=1, thresh = .95 * len(df))\n",
    "\n",
    "    # Remove text columns missing any data\n",
    "    text_cols = df.select_dtypes(include='object').columns.tolist()\n",
    "    for col in text_cols:\n",
    "        if df[col].isnull().sum() > 0:\n",
    "            df = df.drop(col, axis=1)\n",
    "\n",
    "    # Fill missing values in numeric columns with the mode\n",
    "    numeric_cols = df.select_dtypes(include=['int64','float64']).columns.tolist()\n",
    "    for col in numeric_cols:\n",
    "        mode = df[col].dropna().mode()\n",
    "        df[col] = housing[col].fillna(mode[0])\n",
    "        \n",
    "    # compute the age of the house at sale\n",
    "    age_at_sale = df['Yr Sold'] - df['Year Built']\n",
    "    \n",
    "    # compute time since last remodel at sale\n",
    "    years_since_remod = df['Yr Sold'] - df['Year Remod/Add']\n",
    "    \n",
    "    # generate two new columns with our new features\n",
    "    df['Age At Sale'] = age_at_sale\n",
    "    df['Yrs Since Remod'] = years_since_remod\n",
    "\n",
    "    # remove original features\n",
    "    df = df.drop(['Yr Sold','Year Built','Year Remod/Add'], axis=1)\n",
    "\n",
    "    # Drop rows with negative values for our new features\n",
    "    df = df[df['Age At Sale'] >= 0]\n",
    "    df = df[df['Yrs Since Remod']>=0]\n",
    "    \n",
    "    # drop columns not useful to our model\n",
    "    df = df.drop(['PID','Order'], axis=1)\n",
    "\n",
    "    # drop columns leaking sale information\n",
    "    df = df.drop(['Mo Sold','Sale Condition','Sale Type'], axis=1)\n",
    "        \n",
    "    return df\n",
    "\n",
    "def select_features(df):\n",
    "    cols = ['Gr Liv Area','SalePrice']\n",
    "    return df[cols]\n",
    "\n",
    "# function train_and_test separates the data into training and testing sets\n",
    "# Then, trains a linear regression model on the trainind data using numerical\n",
    "# columns to predict SalePrice. Tests the model on the test set and returns the\n",
    "# RMSE value for the model\n",
    "def train_and_test(df):\n",
    "    \n",
    "    # Split data in half\n",
    "    train_last_row = 1460\n",
    "    train = df.head(1460)\n",
    "    test = df.tail(len(df)-1460)\n",
    "    \n",
    "    # Get list of features\n",
    "    features = train.columns.drop('SalePrice')\n",
    "    \n",
    "    # Import LinearRegression and mean_squared error from sklearn\n",
    "    from sklearn.linear_model import LinearRegression\n",
    "    from sklearn.metrics import mean_squared_error\n",
    "    \n",
    "    # Instantiate and fit model\n",
    "    lr = LinearRegression()\n",
    "    lr.fit(train[features], train['SalePrice'])\n",
    "    \n",
    "    # Generate predictions and return RMSE\n",
    "    labels = lr.predict(test[features])\n",
    "    return mean_squared_error(test['SalePrice'], labels)**(1/2)\n",
    "\n",
    "housing = pd.read_csv('AmesHousing.tsv', sep='\\t')\n",
    "transform_housing = transform_features(housing)\n",
    "filtered_housing = select_features(transform_housing)\n",
    "rmse = train_and_test(filtered_housing)\n",
    "\n",
    "rmse"
   ]
  },
  {
   "cell_type": "markdown",
   "metadata": {},
   "source": [
    "## Feature Selection\n",
    "Now that we have cleaned and transformed many of the features in the set, we now need to determine which features we will use for our regression. To start, we need to determine which relevant variables need to be converted to categorical. Then, we need to filter our numeric variables based on relevancy for machine learning."
   ]
  },
  {
   "cell_type": "markdown",
   "metadata": {},
   "source": [
    "### Categorical Variables\n",
    "To use categorical variables in a regression model, we need to use \"dummy coding,\" where we transform each categorical column into a number of columns, each representing one unique value from the original feature. Good candidates for dummy coding should have:\n",
    "- An appropriate number of unique values: too many will complicate our data, and too few will not be informative\n",
    "- An appropriate amoount of variance (not too many values belong in one category).\n",
    "\n",
    "We also need to consider which features are currently listed as numerical but need to be changed to categorical because the numbers do not have semantic meaning. We can start to identify these by the number of unique values in each numeric column. Let's first look for the numerics we need to change, then filter all our categorical vars by number of unique values."
   ]
  },
  {
   "cell_type": "code",
   "execution_count": 11,
   "metadata": {
    "collapsed": false
   },
   "outputs": [
    {
     "data": {
      "text/html": [
       "<div>\n",
       "<style scoped>\n",
       "    .dataframe tbody tr th:only-of-type {\n",
       "        vertical-align: middle;\n",
       "    }\n",
       "\n",
       "    .dataframe tbody tr th {\n",
       "        vertical-align: top;\n",
       "    }\n",
       "\n",
       "    .dataframe thead th {\n",
       "        text-align: right;\n",
       "    }\n",
       "</style>\n",
       "<table border=\"1\" class=\"dataframe\">\n",
       "  <thead>\n",
       "    <tr style=\"text-align: right;\">\n",
       "      <th></th>\n",
       "      <th>0</th>\n",
       "    </tr>\n",
       "  </thead>\n",
       "  <tbody>\n",
       "    <tr>\n",
       "      <th>Bsmt Half Bath</th>\n",
       "      <td>3</td>\n",
       "    </tr>\n",
       "    <tr>\n",
       "      <th>Half Bath</th>\n",
       "      <td>3</td>\n",
       "    </tr>\n",
       "    <tr>\n",
       "      <th>Kitchen AbvGr</th>\n",
       "      <td>4</td>\n",
       "    </tr>\n",
       "    <tr>\n",
       "      <th>Bsmt Full Bath</th>\n",
       "      <td>4</td>\n",
       "    </tr>\n",
       "    <tr>\n",
       "      <th>Fireplaces</th>\n",
       "      <td>5</td>\n",
       "    </tr>\n",
       "    <tr>\n",
       "      <th>Full Bath</th>\n",
       "      <td>5</td>\n",
       "    </tr>\n",
       "    <tr>\n",
       "      <th>Garage Cars</th>\n",
       "      <td>6</td>\n",
       "    </tr>\n",
       "    <tr>\n",
       "      <th>Bedroom AbvGr</th>\n",
       "      <td>8</td>\n",
       "    </tr>\n",
       "    <tr>\n",
       "      <th>Overall Cond</th>\n",
       "      <td>9</td>\n",
       "    </tr>\n",
       "    <tr>\n",
       "      <th>Overall Qual</th>\n",
       "      <td>10</td>\n",
       "    </tr>\n",
       "    <tr>\n",
       "      <th>TotRms AbvGrd</th>\n",
       "      <td>13</td>\n",
       "    </tr>\n",
       "    <tr>\n",
       "      <th>Pool Area</th>\n",
       "      <td>14</td>\n",
       "    </tr>\n",
       "    <tr>\n",
       "      <th>MS SubClass</th>\n",
       "      <td>16</td>\n",
       "    </tr>\n",
       "    <tr>\n",
       "      <th>3Ssn Porch</th>\n",
       "      <td>31</td>\n",
       "    </tr>\n",
       "    <tr>\n",
       "      <th>Low Qual Fin SF</th>\n",
       "      <td>36</td>\n",
       "    </tr>\n",
       "    <tr>\n",
       "      <th>Misc Val</th>\n",
       "      <td>37</td>\n",
       "    </tr>\n",
       "    <tr>\n",
       "      <th>Yrs Since Remod</th>\n",
       "      <td>61</td>\n",
       "    </tr>\n",
       "    <tr>\n",
       "      <th>Screen Porch</th>\n",
       "      <td>121</td>\n",
       "    </tr>\n",
       "    <tr>\n",
       "      <th>Age At Sale</th>\n",
       "      <td>127</td>\n",
       "    </tr>\n",
       "    <tr>\n",
       "      <th>Enclosed Porch</th>\n",
       "      <td>183</td>\n",
       "    </tr>\n",
       "    <tr>\n",
       "      <th>Open Porch SF</th>\n",
       "      <td>249</td>\n",
       "    </tr>\n",
       "    <tr>\n",
       "      <th>BsmtFin SF 2</th>\n",
       "      <td>274</td>\n",
       "    </tr>\n",
       "    <tr>\n",
       "      <th>Wood Deck SF</th>\n",
       "      <td>379</td>\n",
       "    </tr>\n",
       "    <tr>\n",
       "      <th>Mas Vnr Area</th>\n",
       "      <td>444</td>\n",
       "    </tr>\n",
       "    <tr>\n",
       "      <th>Garage Area</th>\n",
       "      <td>602</td>\n",
       "    </tr>\n",
       "    <tr>\n",
       "      <th>2nd Flr SF</th>\n",
       "      <td>633</td>\n",
       "    </tr>\n",
       "    <tr>\n",
       "      <th>BsmtFin SF 1</th>\n",
       "      <td>993</td>\n",
       "    </tr>\n",
       "    <tr>\n",
       "      <th>SalePrice</th>\n",
       "      <td>1029</td>\n",
       "    </tr>\n",
       "    <tr>\n",
       "      <th>Total Bsmt SF</th>\n",
       "      <td>1056</td>\n",
       "    </tr>\n",
       "    <tr>\n",
       "      <th>1st Flr SF</th>\n",
       "      <td>1081</td>\n",
       "    </tr>\n",
       "    <tr>\n",
       "      <th>Bsmt Unf SF</th>\n",
       "      <td>1136</td>\n",
       "    </tr>\n",
       "    <tr>\n",
       "      <th>Gr Liv Area</th>\n",
       "      <td>1289</td>\n",
       "    </tr>\n",
       "    <tr>\n",
       "      <th>Lot Area</th>\n",
       "      <td>1958</td>\n",
       "    </tr>\n",
       "  </tbody>\n",
       "</table>\n",
       "</div>"
      ],
      "text/plain": [
       "                    0\n",
       "Bsmt Half Bath      3\n",
       "Half Bath           3\n",
       "Kitchen AbvGr       4\n",
       "Bsmt Full Bath      4\n",
       "Fireplaces          5\n",
       "Full Bath           5\n",
       "Garage Cars         6\n",
       "Bedroom AbvGr       8\n",
       "Overall Cond        9\n",
       "Overall Qual       10\n",
       "TotRms AbvGrd      13\n",
       "Pool Area          14\n",
       "MS SubClass        16\n",
       "3Ssn Porch         31\n",
       "Low Qual Fin SF    36\n",
       "Misc Val           37\n",
       "Yrs Since Remod    61\n",
       "Screen Porch      121\n",
       "Age At Sale       127\n",
       "Enclosed Porch    183\n",
       "Open Porch SF     249\n",
       "BsmtFin SF 2      274\n",
       "Wood Deck SF      379\n",
       "Mas Vnr Area      444\n",
       "Garage Area       602\n",
       "2nd Flr SF        633\n",
       "BsmtFin SF 1      993\n",
       "SalePrice        1029\n",
       "Total Bsmt SF    1056\n",
       "1st Flr SF       1081\n",
       "Bsmt Unf SF      1136\n",
       "Gr Liv Area      1289\n",
       "Lot Area         1958"
      ]
     },
     "execution_count": 11,
     "metadata": {},
     "output_type": "execute_result"
    }
   ],
   "source": [
    "# initialize dictionary to store number of unique values for each numeric column\n",
    "num_uniques = {}\n",
    "numerical_features = transform_housing.select_dtypes(include=['integer','float']).columns\n",
    "numerical_housing = transform_housing[numerical_features]\n",
    "\n",
    "# iterate numeric columns\n",
    "for col in numerical_features:\n",
    "    num_uniques[col] = len(numerical_housing[col].value_counts())\n",
    "\n",
    "num_uniques = pd.DataFrame.from_dict(num_uniques, orient='index').sort_values(by=0, ascending=True)\n",
    "num_uniques"
   ]
  },
  {
   "cell_type": "markdown",
   "metadata": {},
   "source": [
    "Looking at the number of unique values and the documentation, several numeric columns stand out as categorical\n",
    "- Overall condition\n",
    "- Overall quality\n",
    "- MS SubClass\n",
    "\n",
    "So, we should convert these to categorical. Each of them has only a few values, so we should be okay to dummy code them. we'll save the dummy coding for our final set of categoricals."
   ]
  },
  {
   "cell_type": "code",
   "execution_count": 12,
   "metadata": {
    "collapsed": false
   },
   "outputs": [],
   "source": [
    "# convert selected numeric columns to numeric\n",
    "numeric_categoricals = ['Overall Cond','Overall Qual', 'MS SubClass']\n",
    "for col in numeric_categoricals:\n",
    "    transform_housing[col] = transform_housing[col].astype('category')"
   ]
  },
  {
   "cell_type": "markdown",
   "metadata": {},
   "source": [
    "Next, let's look at the unique values in our object columns to identify other potential categoricals."
   ]
  },
  {
   "cell_type": "code",
   "execution_count": 13,
   "metadata": {
    "collapsed": false
   },
   "outputs": [
    {
     "data": {
      "text/html": [
       "<div>\n",
       "<style scoped>\n",
       "    .dataframe tbody tr th:only-of-type {\n",
       "        vertical-align: middle;\n",
       "    }\n",
       "\n",
       "    .dataframe tbody tr th {\n",
       "        vertical-align: top;\n",
       "    }\n",
       "\n",
       "    .dataframe thead th {\n",
       "        text-align: right;\n",
       "    }\n",
       "</style>\n",
       "<table border=\"1\" class=\"dataframe\">\n",
       "  <thead>\n",
       "    <tr style=\"text-align: right;\">\n",
       "      <th></th>\n",
       "      <th>0</th>\n",
       "    </tr>\n",
       "  </thead>\n",
       "  <tbody>\n",
       "    <tr>\n",
       "      <th>Central Air</th>\n",
       "      <td>2</td>\n",
       "    </tr>\n",
       "    <tr>\n",
       "      <th>Street</th>\n",
       "      <td>2</td>\n",
       "    </tr>\n",
       "    <tr>\n",
       "      <th>Land Slope</th>\n",
       "      <td>3</td>\n",
       "    </tr>\n",
       "    <tr>\n",
       "      <th>Paved Drive</th>\n",
       "      <td>3</td>\n",
       "    </tr>\n",
       "    <tr>\n",
       "      <th>Utilities</th>\n",
       "      <td>3</td>\n",
       "    </tr>\n",
       "    <tr>\n",
       "      <th>Lot Shape</th>\n",
       "      <td>4</td>\n",
       "    </tr>\n",
       "    <tr>\n",
       "      <th>Exter Qual</th>\n",
       "      <td>4</td>\n",
       "    </tr>\n",
       "    <tr>\n",
       "      <th>Land Contour</th>\n",
       "      <td>4</td>\n",
       "    </tr>\n",
       "    <tr>\n",
       "      <th>Heating QC</th>\n",
       "      <td>5</td>\n",
       "    </tr>\n",
       "    <tr>\n",
       "      <th>Lot Config</th>\n",
       "      <td>5</td>\n",
       "    </tr>\n",
       "    <tr>\n",
       "      <th>Bldg Type</th>\n",
       "      <td>5</td>\n",
       "    </tr>\n",
       "    <tr>\n",
       "      <th>Kitchen Qual</th>\n",
       "      <td>5</td>\n",
       "    </tr>\n",
       "    <tr>\n",
       "      <th>Exter Cond</th>\n",
       "      <td>5</td>\n",
       "    </tr>\n",
       "    <tr>\n",
       "      <th>Foundation</th>\n",
       "      <td>6</td>\n",
       "    </tr>\n",
       "    <tr>\n",
       "      <th>Roof Style</th>\n",
       "      <td>6</td>\n",
       "    </tr>\n",
       "    <tr>\n",
       "      <th>Heating</th>\n",
       "      <td>6</td>\n",
       "    </tr>\n",
       "    <tr>\n",
       "      <th>MS Zoning</th>\n",
       "      <td>7</td>\n",
       "    </tr>\n",
       "    <tr>\n",
       "      <th>House Style</th>\n",
       "      <td>8</td>\n",
       "    </tr>\n",
       "    <tr>\n",
       "      <th>Condition 2</th>\n",
       "      <td>8</td>\n",
       "    </tr>\n",
       "    <tr>\n",
       "      <th>Functional</th>\n",
       "      <td>8</td>\n",
       "    </tr>\n",
       "    <tr>\n",
       "      <th>Roof Matl</th>\n",
       "      <td>8</td>\n",
       "    </tr>\n",
       "    <tr>\n",
       "      <th>Condition 1</th>\n",
       "      <td>9</td>\n",
       "    </tr>\n",
       "    <tr>\n",
       "      <th>Exterior 1st</th>\n",
       "      <td>16</td>\n",
       "    </tr>\n",
       "    <tr>\n",
       "      <th>Exterior 2nd</th>\n",
       "      <td>17</td>\n",
       "    </tr>\n",
       "    <tr>\n",
       "      <th>Neighborhood</th>\n",
       "      <td>28</td>\n",
       "    </tr>\n",
       "  </tbody>\n",
       "</table>\n",
       "</div>"
      ],
      "text/plain": [
       "               0\n",
       "Central Air    2\n",
       "Street         2\n",
       "Land Slope     3\n",
       "Paved Drive    3\n",
       "Utilities      3\n",
       "Lot Shape      4\n",
       "Exter Qual     4\n",
       "Land Contour   4\n",
       "Heating QC     5\n",
       "Lot Config     5\n",
       "Bldg Type      5\n",
       "Kitchen Qual   5\n",
       "Exter Cond     5\n",
       "Foundation     6\n",
       "Roof Style     6\n",
       "Heating        6\n",
       "MS Zoning      7\n",
       "House Style    8\n",
       "Condition 2    8\n",
       "Functional     8\n",
       "Roof Matl      8\n",
       "Condition 1    9\n",
       "Exterior 1st  16\n",
       "Exterior 2nd  17\n",
       "Neighborhood  28"
      ]
     },
     "execution_count": 13,
     "metadata": {},
     "output_type": "execute_result"
    }
   ],
   "source": [
    "# get non-numeric columns\n",
    "object_features = transform_housing.select_dtypes(include='object').columns\n",
    "object_housing = transform_housing[object_features]\n",
    "\n",
    "# look at unique values\n",
    "num_uniques = {}\n",
    "\n",
    "for col in object_features:\n",
    "    num_uniques[col] = len(object_housing[col].value_counts())\n",
    "    \n",
    "num_uniques = pd.DataFrame.from_dict(num_uniques, orient='index').sort_values(by=0, ascending=True)\n",
    "num_uniques"
   ]
  },
  {
   "cell_type": "markdown",
   "metadata": {},
   "source": [
    "Looking at our list and the documentation, all these features are candidates for categorical features in our model. Let's convert these columns to categorical. \n",
    "\n",
    "Then, we will take all our categorical variables and flag any that have more than 95% of one category. These will have variance that is too low."
   ]
  },
  {
   "cell_type": "code",
   "execution_count": 14,
   "metadata": {
    "collapsed": true
   },
   "outputs": [],
   "source": [
    "# convert object types to categorical\n",
    "for col in object_features:\n",
    "    transform_housing[col] = transform_housing[col].astype('category')"
   ]
  },
  {
   "cell_type": "code",
   "execution_count": 15,
   "metadata": {
    "collapsed": false
   },
   "outputs": [
    {
     "data": {
      "text/plain": [
       "['Street', 'Utilities', 'Land Slope', 'Condition 2', 'Roof Matl', 'Heating']"
      ]
     },
     "execution_count": 15,
     "metadata": {},
     "output_type": "execute_result"
    }
   ],
   "source": [
    "# Check out categories for columns where more than 95% of of the values are one category\n",
    "category_features = transform_housing.select_dtypes(include='category').columns\n",
    "low_var_features = []\n",
    "\n",
    "for col in category_features:\n",
    "        unique_vals = transform_housing[col].value_counts()\n",
    "        for val in unique_vals:\n",
    "            if val > .95 * len(transform_housing[col]):\n",
    "                low_var_features.append(col)\n",
    "                \n",
    "low_var_features"
   ]
  },
  {
   "cell_type": "code",
   "execution_count": 16,
   "metadata": {
    "collapsed": false
   },
   "outputs": [],
   "source": [
    "# remove low var features\n",
    "transform_housing = transform_housing.drop(low_var_features, axis=1)"
   ]
  },
  {
   "cell_type": "markdown",
   "metadata": {},
   "source": [
    "### Numerical Features\n",
    "Let's start by looking at a heatmap of the numerical features in order to identify strong correlations with SalePrice and look for redundant variables."
   ]
  },
  {
   "cell_type": "code",
   "execution_count": 17,
   "metadata": {
    "collapsed": false
   },
   "outputs": [
    {
     "data": {
      "image/png": "[encoded data removed]",
      "text/plain": [
       "<matplotlib.figure.Figure at 0x7f5cce85fef0>"
      ]
     },
     "metadata": {},
     "output_type": "display_data"
    }
   ],
   "source": [
    "# filter for numeric types\n",
    "numerical_features = transform_housing.select_dtypes(include=['integer','float']).columns\n",
    "numerical_housing = transform_housing[numerical_features]\n",
    "\n",
    "# print heatmap of correlations\n",
    "corr_data = numerical_housing.corr()\n",
    "sns.set(font_scale=2)\n",
    "fig = plt.figure(figsize = [20,20])\n",
    "sns.heatmap(corr_data)\n",
    "plt.show()"
   ]
  },
  {
   "cell_type": "markdown",
   "metadata": {},
   "source": [
    "The heatmap allows us to identify a number of features which correlate strongly with sale price. Let's only keep variables with an absolute correlation with SalePrice of at least 0.4."
   ]
  },
  {
   "cell_type": "code",
   "execution_count": 18,
   "metadata": {
    "collapsed": false
   },
   "outputs": [],
   "source": [
    "# Drop correlations with less than 0.4 \n",
    "low_corr = corr_data['SalePrice'][corr_data['SalePrice'] < 0.4].index\n",
    "transform_housing = transform_housing.drop(low_corr, axis=1)"
   ]
  },
  {
   "cell_type": "markdown",
   "metadata": {},
   "source": [
    "We can also identify three clusters of variables which highly correlate with each other and may convey redundant information:\n",
    "- Age at Sale and Years since Remodeling\n",
    "- Garage Cars and Garage Area\n",
    "- Total Basement Square Footage and Total 1st floor square footage\n",
    "\n",
    "Of these three sets, we can definitely say that the number of cars you can fit in a garage and its total area are redundant, so we can just stick with the garage area."
   ]
  },
  {
   "cell_type": "code",
   "execution_count": 19,
   "metadata": {
    "collapsed": true
   },
   "outputs": [],
   "source": [
    "# Drop Garage Cars, which is a reduntant column\n",
    "transform_housing = transform_housing.drop('Garage Cars', axis=1)"
   ]
  },
  {
   "cell_type": "markdown",
   "metadata": {},
   "source": [
    "### Dummy coding\n",
    "Now that we have parsed through our relevant features, let's convert the categorical features to dummy-coded features."
   ]
  },
  {
   "cell_type": "code",
   "execution_count": 20,
   "metadata": {
    "collapsed": false
   },
   "outputs": [],
   "source": [
    "# convert each categorical variable into dummy categories\n",
    "category_features = transform_housing.select_dtypes(include='category').columns\n",
    "transform_housing = pd.concat([\n",
    "    transform_housing,\n",
    "    pd.get_dummies(transform_housing.select_dtypes(include='category'))\n",
    "], axis=1).drop(category_features,axis=1)"
   ]
  },
  {
   "cell_type": "markdown",
   "metadata": {},
   "source": [
    "Now, let's update our feature selection function to reflect our changes."
   ]
  },
  {
   "cell_type": "code",
   "execution_count": 21,
   "metadata": {
    "collapsed": false
   },
   "outputs": [
    {
     "data": {
      "text/plain": [
       "30584.610989166933"
      ]
     },
     "execution_count": 21,
     "metadata": {},
     "output_type": "execute_result"
    }
   ],
   "source": [
    "def transform_features(df):\n",
    "    \n",
    "    # Remove columns missing more than 5% of their data\n",
    "    df = df.dropna(axis=1, thresh = .95 * len(df))\n",
    "\n",
    "    # Remove text columns missing any data\n",
    "    text_cols = df.select_dtypes(include='object').columns.tolist()\n",
    "    for col in text_cols:\n",
    "        if df[col].isnull().sum() > 0:\n",
    "            df = df.drop(col, axis=1)\n",
    "\n",
    "    # Fill missing values in numeric columns with the mode\n",
    "    numeric_cols = df.select_dtypes(include=['int64','float64']).columns.tolist()\n",
    "    for col in numeric_cols:\n",
    "        mode = df[col].dropna().mode()\n",
    "        df[col] = housing[col].fillna(mode[0])\n",
    "        \n",
    "    # compute the age of the house at sale\n",
    "    age_at_sale = df['Yr Sold'] - df['Year Built']\n",
    "    \n",
    "    # compute time since last remodel at sale\n",
    "    years_since_remod = df['Yr Sold'] - df['Year Remod/Add']\n",
    "    \n",
    "    # generate two new columns with our new features\n",
    "    df['Age At Sale'] = age_at_sale\n",
    "    df['Yrs Since Remod'] = years_since_remod\n",
    "\n",
    "    # remove original features\n",
    "    df = df.drop(['Yr Sold','Year Built','Year Remod/Add'], axis=1)\n",
    "\n",
    "    # Drop rows with negative values for our new features\n",
    "    df = df[df['Age At Sale'] >= 0]\n",
    "    df = df[df['Yrs Since Remod']>=0]\n",
    "    \n",
    "    # drop columns not useful to our model\n",
    "    df = df.drop(['PID','Order'], axis=1)\n",
    "\n",
    "    # drop columns leaking sale information\n",
    "    df = df.drop(['Mo Sold','Sale Condition','Sale Type'], axis=1)\n",
    "        \n",
    "    return df\n",
    "\n",
    "def select_features(df):\n",
    "    # initialize dictionary to store number of unique values for each numeric column\n",
    "    num_uniques = {}\n",
    "    numerical_features = df.select_dtypes(include=['integer','float']).columns\n",
    "    numerical_housing = df[numerical_features]\n",
    "\n",
    "    # convert selected numeric columns to numeric\n",
    "    numeric_categoricals = ['Overall Cond','Overall Qual', 'MS SubClass']\n",
    "    for col in numeric_categoricals:\n",
    "        df[col] = df[col].astype('category')\n",
    "\n",
    "    # get non-numeric columns\n",
    "    object_features = df.select_dtypes(include='object').columns\n",
    "    object_housing = df[object_features]\n",
    "\n",
    "    # convert object types to categorical\n",
    "    for col in object_features:\n",
    "        df[col] = df[col].astype('category')\n",
    "\n",
    "    # Check out categories for columns where more than 95% of of the values are one category\n",
    "    category_features = df.select_dtypes(include='category').columns\n",
    "    low_var_features = []\n",
    "\n",
    "    for col in category_features:\n",
    "            unique_vals = df[col].value_counts()\n",
    "            for val in unique_vals:\n",
    "                if val > .95 * len(df[col]):\n",
    "                    low_var_features.append(col)\n",
    "\n",
    "    # remove low var features\n",
    "    df = df.drop(low_var_features, axis=1)\n",
    "\n",
    "    # filter for numeric types\n",
    "    numerical_features = df.select_dtypes(include=['integer','float']).columns\n",
    "    numerical_housing = df[numerical_features]\n",
    "\n",
    "    # Drop correlations with less than 0.4 \n",
    "    corr_data = numerical_housing.corr()\n",
    "    low_corr = corr_data['SalePrice'][corr_data['SalePrice'] < 0.4].index\n",
    "    df = df.drop(low_corr, axis=1)\n",
    "\n",
    "    # Drop Garage Cars, which is a reduntant column\n",
    "    df = df.drop('Garage Cars', axis=1)\n",
    "\n",
    "    # convert each categorical variable into dummy categories\n",
    "    category_features = df.select_dtypes(include='category').columns\n",
    "    df = pd.concat([\n",
    "        df,\n",
    "        pd.get_dummies(df.select_dtypes(include='category'))\n",
    "    ], axis=1).drop(category_features,axis=1)\n",
    "    \n",
    "    return df\n",
    "\n",
    "# function train_and_test separates the data into training and testing sets\n",
    "# Then, trains a linear regression model on the trainind data using numerical\n",
    "# columns to predict SalePrice. Tests the model on the test set and returns the\n",
    "# RMSE value for the model\n",
    "def train_and_test(df):\n",
    "    \n",
    "    # Split data in half\n",
    "    train_last_row = 1460\n",
    "    train = df.head(1460)\n",
    "    test = df.tail(len(df)-1460)\n",
    "    \n",
    "    # Get list of features\n",
    "    features = train.columns.drop('SalePrice')\n",
    "    \n",
    "    # Import LinearRegression and mean_squared error from sklearn\n",
    "    from sklearn.linear_model import LinearRegression\n",
    "    from sklearn.metrics import mean_squared_error\n",
    "    \n",
    "    # Instantiate and fit model\n",
    "    lr = LinearRegression()\n",
    "    lr.fit(train[features], train['SalePrice'])\n",
    "    \n",
    "    # Generate predictions and return RMSE\n",
    "    labels = lr.predict(test[features])\n",
    "    return mean_squared_error(test['SalePrice'], labels)**(1/2)\n",
    "\n",
    "housing = pd.read_csv('AmesHousing.tsv', sep='\\t')\n",
    "transform_housing = transform_features(housing)\n",
    "filtered_housing = select_features(transform_housing)\n",
    "rmse = train_and_test(filtered_housing)\n",
    "\n",
    "rmse"
   ]
  },
  {
   "cell_type": "markdown",
   "metadata": {},
   "source": [
    "## Cross Validation\n",
    "Let's add a parameter, k, which modifies the type of cross validation and number of folds used in our model. When k = 0, we use simple holdout validation, training the model on 50% of the data and testing on the other 50%. When k > 0, we implement k-fold cross validation and return the average RMSE."
   ]
  },
  {
   "cell_type": "code",
   "execution_count": 23,
   "metadata": {
    "collapsed": false
   },
   "outputs": [
    {
     "data": {
      "text/plain": [
       "26922.851474232775"
      ]
     },
     "execution_count": 23,
     "metadata": {},
     "output_type": "execute_result"
    }
   ],
   "source": [
    "def train_and_test(df, k=0):\n",
    "    \n",
    "    # Import LinearRegression, KFoldm and mean_squared error from sklearn\n",
    "    from sklearn.linear_model import LinearRegression\n",
    "    from sklearn.model_selection import KFold\n",
    "    from sklearn.metrics import mean_squared_error\n",
    "    \n",
    "    # Instantiate model\n",
    "    lr = LinearRegression()\n",
    "    \n",
    "    # Get list of features\n",
    "    features = df.columns.drop('SalePrice')\n",
    "    \n",
    "    if k == 0:\n",
    "        # Split data in half\n",
    "        train_last_row = 1460\n",
    "        train = df.head(1460)\n",
    "        test = df.tail(len(df)-1460)\n",
    "\n",
    "        # fit model\n",
    "        lr.fit(train[features], train['SalePrice'])\n",
    "\n",
    "        # Generate predictions and return RMSE\n",
    "        labels = lr.predict(test[features])\n",
    "        return mean_squared_error(test['SalePrice'], labels)**(1/2)\n",
    "    \n",
    "    elif k == 1:\n",
    "        # Randomize all rows\n",
    "        shuffled_df = df.sample(frac=1)\n",
    "        \n",
    "        # split data in half\n",
    "        fold_one = shuffled_df[:1460]\n",
    "        fold_two = shuffled_df[1460:]\n",
    "        \n",
    "        # train on fold one and test on fold two\n",
    "        lr.fit(fold_one[features], fold_one['SalePrice'])\n",
    "        labels = lr.predict(fold_two[features])\n",
    "        rmse_one = mean_squared_error(fold_two['SalePrice'], labels)**(1/2)\n",
    "        \n",
    "        # train on fold two and test on fold one\n",
    "        lr.fit(fold_two[features], fold_two['SalePrice'])\n",
    "        labels = lr.predict(fold_one[features])\n",
    "        rmse_two = mean_squared_error(fold_one['SalePrice'], labels)**(1/2)\n",
    "        \n",
    "        return (rmse_one + rmse_two)/2\n",
    "    \n",
    "    else:\n",
    "        # generate kfold object\n",
    "        kf = KFold(n_splits=k, shuffle=True)\n",
    "        \n",
    "        # initialize rmse list\n",
    "        rmse_vals = []\n",
    "        \n",
    "        # iterate through splits\n",
    "        for train_index, test_index in kf.split(df):\n",
    "            \n",
    "            # split set based on folds\n",
    "            train = df.iloc[train_index]\n",
    "            test = df.iloc[test_index]\n",
    "            \n",
    "            # fit and test model\n",
    "            lr.fit(train[features], train['SalePrice'])\n",
    "            labels = lr.predict(test[features])\n",
    "            rmse_vals.append(\n",
    "                mean_squared_error(test['SalePrice'], labels)**(1/2)\n",
    "            )\n",
    "        # average rmse vals\n",
    "        return np.mean(rmse_vals)\n",
    "    \n",
    "housing = pd.read_csv('AmesHousing.tsv', sep='\\t')\n",
    "transform_housing = transform_features(housing)\n",
    "filtered_housing = select_features(transform_housing)\n",
    "rmse = train_and_test(filtered_housing, 5)\n",
    "\n",
    "rmse"
   ]
  },
  {
   "cell_type": "markdown",
   "metadata": {},
   "source": [
    "Our final model, with 5-fold cross validation, can predict housing prices based on our features with a root mean squared error of ~$27000, or around .33 standard deviations of the price distribution."
   ]
  },
  {
   "cell_type": "code",
   "execution_count": 25,
   "metadata": {
    "collapsed": false
   },
   "outputs": [
    {
     "name": "stdout",
     "output_type": "stream",
     "text": [
      "79886.692356665\n"
     ]
    },
    {
     "data": {
      "text/plain": [
       "0.33701297024580823"
      ]
     },
     "execution_count": 25,
     "metadata": {},
     "output_type": "execute_result"
    }
   ],
   "source": [
    "# Compare our RMSE value to the standard deviation of the sale price\n",
    "print(housing['SalePrice'].std())\n",
    "rmse/housing['SalePrice'].std()"
   ]
  },
  {
   "cell_type": "code",
   "execution_count": null,
   "metadata": {
    "collapsed": true
   },
   "outputs": [],
   "source": []
  }
 ],
 "metadata": {
  "anaconda-cloud": {},
  "kernelspec": {
   "display_name": "Python 3",
   "language": "python",
   "name": "python3"
  },
  "language_info": {
   "codemirror_mode": {
    "name": "ipython",
    "version": 3
   },
   "file_extension": ".py",
   "mimetype": "text/x-python",
   "name": "python",
   "nbconvert_exporter": "python",
   "pygments_lexer": "ipython3",
   "version": "3.4.3"
  }
 },
 "nbformat": 4,
 "nbformat_minor": 2
}
